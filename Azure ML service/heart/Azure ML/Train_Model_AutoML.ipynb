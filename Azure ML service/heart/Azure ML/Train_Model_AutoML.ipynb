{
 "cells": [
  {
   "cell_type": "markdown",
   "metadata": {
    "collapsed": true
   },
   "source": [
    "## Model Training with Automated ML\n",
    "### Create a high quality classification model with Azure ML service through Automated ML\n",
    "\n",
    "#### <font color='red'> Before you begin: please download the dataset from Kaggle and save it into the \"data\" folder as \"heart.csv\". You will need to login into Kaggle to be able to download the dataset. </font>"
   ]
  },
  {
   "cell_type": "markdown",
   "metadata": {},
   "source": [
    "#### Setup diagnostics collection"
   ]
  },
  {
   "cell_type": "code",
   "execution_count": 1,
   "metadata": {},
   "outputs": [
    {
     "name": "stdout",
     "output_type": "stream",
     "text": [
      "Turning diagnostics collection on. \n"
     ]
    }
   ],
   "source": [
    "from azureml.telemetry import set_diagnostics_collection\n",
    "\n",
    "set_diagnostics_collection(send_diagnostics=True)"
   ]
  },
  {
   "cell_type": "markdown",
   "metadata": {},
   "source": [
    "#### Initialize the Azure ML Workspace"
   ]
  },
  {
   "cell_type": "code",
   "execution_count": 2,
   "metadata": {},
   "outputs": [
    {
     "name": "stdout",
     "output_type": "stream",
     "text": [
      "Found the config file in: C:\\AI+ Tour Tutorials\\Azure ML service\\heart\\Azure ML\\aml_config\\config.json\n",
      "Workspace name: ML-Service-Workspace\n",
      "Azure region: eastus\n",
      "Resource group: ML-Service-RG\n"
     ]
    }
   ],
   "source": [
    "from azureml.core.workspace import Workspace\n",
    "\n",
    "ws = Workspace.from_config()\n",
    "print(\"Workspace name: \" + ws.name, \n",
    "      \"Azure region: \" + ws.location,\n",
    "      \"Resource group: \" + ws.resource_group, sep = \"\\n\")"
   ]
  },
  {
   "cell_type": "markdown",
   "metadata": {},
   "source": [
    "#### Attach your compute target"
   ]
  },
  {
   "cell_type": "code",
   "execution_count": 3,
   "metadata": {},
   "outputs": [
    {
     "name": "stdout",
     "output_type": "stream",
     "text": [
      "{'allocationState': 'Steady', 'allocationStateTransitionTime': '2019-02-14T18:43:52.143000+00:00', 'creationTime': '2019-02-14T18:43:13.923060+00:00', 'currentNodeCount': 0, 'errors': None, 'modifiedTime': '2019-02-14T18:43:59.767876+00:00', 'nodeStateCounts': {'idleNodeCount': 0, 'leavingNodeCount': 0, 'preemptedNodeCount': 0, 'preparingNodeCount': 0, 'runningNodeCount': 0, 'unusableNodeCount': 0}, 'provisioningState': 'Succeeded', 'provisioningStateTransitionTime': None, 'scaleSettings': {'minNodeCount': 0, 'maxNodeCount': 1, 'nodeIdleTimeBeforeScaleDown': 'PT120S'}, 'targetNodeCount': 0, 'vmPriority': 'Dedicated', 'vmSize': 'STANDARD_DS3_V2'}\n"
     ]
    }
   ],
   "source": [
    "from azureml.core.compute import ComputeTarget\n",
    "\n",
    "cluster_name = \"cpunode\"\n",
    "compute_target = ComputeTarget(workspace=ws, name=cluster_name)\n",
    "\n",
    "print(compute_target.status.serialize())"
   ]
  },
  {
   "cell_type": "markdown",
   "metadata": {},
   "source": [
    "#### Create an Experiment in your Workspace to track the training runs"
   ]
  },
  {
   "cell_type": "code",
   "execution_count": 4,
   "metadata": {},
   "outputs": [],
   "source": [
    "from azureml.core import Experiment\n",
    "\n",
    "experiment_name = \"classification-automl\"\n",
    "experiment = Experiment(ws, name=experiment_name)"
   ]
  },
  {
   "cell_type": "markdown",
   "metadata": {},
   "source": [
    "#### Upload data to the cloud"
   ]
  },
  {
   "cell_type": "code",
   "execution_count": 5,
   "metadata": {
    "scrolled": true
   },
   "outputs": [
    {
     "name": "stdout",
     "output_type": "stream",
     "text": [
      "AzureBlob mlservicstoragevqkhmalr azureml-blobstore-03a77933-b9d0-4918-bd23-4f23d00afafb\n",
      "Uploading ../data\\heart.csv\n",
      "Uploaded ../data\\heart.csv, 1 files out of an estimated total of 1\n"
     ]
    },
    {
     "data": {
      "text/plain": [
       "$AZUREML_DATAREFERENCE_dd8b846a15d84f39a3b1f8c5f4db669b"
      ]
     },
     "execution_count": 5,
     "metadata": {},
     "output_type": "execute_result"
    }
   ],
   "source": [
    "ds = ws.get_default_datastore()\n",
    "print(ds.datastore_type, ds.account_name, ds.container_name)\n",
    "\n",
    "ds.upload(src_dir=\"../data\", target_path=\"classification-automl\", overwrite=True, show_progress=True)"
   ]
  },
  {
   "cell_type": "markdown",
   "metadata": {},
   "source": [
    "#### Create a Data Reference Configuration, which allows the system to download data to the compute target"
   ]
  },
  {
   "cell_type": "code",
   "execution_count": 6,
   "metadata": {},
   "outputs": [],
   "source": [
    "from azureml.core.runconfig import DataReferenceConfiguration\n",
    "\n",
    "path_on_datastore = \"classification-automl/\"\n",
    "path_on_compute = \"/tmp/classification-automl/\"\n",
    "\n",
    "dr = DataReferenceConfiguration(datastore_name=ds.name,\n",
    "                                path_on_datastore=path_on_datastore,\n",
    "                                path_on_compute=path_on_compute,\n",
    "                                mode=\"download\", # download files from datastore to compute target\n",
    "                                overwrite=True)"
   ]
  },
  {
   "cell_type": "markdown",
   "metadata": {},
   "source": [
    "#### Create a Run Configuration with the Automated ML dependencies, which allows you to submit training jobs to your target compute environment to run Automated ML tasks"
   ]
  },
  {
   "cell_type": "code",
   "execution_count": 7,
   "metadata": {},
   "outputs": [],
   "source": [
    "from azureml.core.runconfig import RunConfiguration\n",
    "from azureml.core.conda_dependencies import CondaDependencies\n",
    "\n",
    "# create a new RunConfig object\n",
    "conda_run_config = RunConfiguration(framework=\"python\")\n",
    "\n",
    "# Set compute target to the cpu cluster\n",
    "conda_run_config.target = compute_target\n",
    "# set the data reference of the run coonfiguration\n",
    "conda_run_config.data_references = {ds.name: dr}\n",
    "\n",
    "cd = CondaDependencies.create(pip_packages=['azureml-sdk[automl]'], conda_packages=['numpy'])\n",
    "conda_run_config.environment.python.conda_dependencies = cd"
   ]
  },
  {
   "cell_type": "markdown",
   "metadata": {},
   "source": [
    "#### Create the get_data.py script, which allows the remote execution job to read the dataset. Notice that this file should be in the root directory of the project and the actual data path is specified by the path_on_compute value specified in the DataReferenceConfiguration call plus the path_on_datastore folder and then the actual file name"
   ]
  },
  {
   "cell_type": "code",
   "execution_count": 8,
   "metadata": {},
   "outputs": [
    {
     "name": "stdout",
     "output_type": "stream",
     "text": [
      "Writing get_data.py\n"
     ]
    }
   ],
   "source": [
    "%%writefile get_data.py\n",
    "\n",
    "import pandas as pd\n",
    "from sklearn.model_selection import train_test_split\n",
    "\n",
    "path_on_compute = \"/tmp/classification-automl/\"\n",
    "path_on_datastore = \"classification-automl/\"\n",
    "\n",
    "def get_data():\n",
    "    df_heart = pd.read_csv(path_on_compute + path_on_datastore + \"heart.csv\")\n",
    "    df_heart_X = df_heart.drop([\"target\"], axis=1).values\n",
    "    df_heart_y = df_heart[\"target\"].values\n",
    "    X_train, X_test, y_train, y_test = train_test_split(df_heart_X, df_heart_y, test_size = 0.2, random_state=123)\n",
    "    \n",
    "    return { \"X\": X_train, \"y\": y_train, \"X_valid\": X_test, \"y_valid\": y_test }"
   ]
  },
  {
   "cell_type": "markdown",
   "metadata": {},
   "source": [
    "#### Define the AutoML settings and the job to be submitted"
   ]
  },
  {
   "cell_type": "code",
   "execution_count": 9,
   "metadata": {},
   "outputs": [],
   "source": [
    "import logging\n",
    "from azureml.train.automl import AutoMLConfig\n",
    "\n",
    "automl_settings = {\n",
    "    \"iteration_timeout_minutes\": 60,\n",
    "    \"iterations\": 50,\n",
    "    \"primary_metric\": 'accuracy',\n",
    "    \"preprocess\": True,\n",
    "    \"max_cores_per_iteration\": 4,\n",
    "    \"verbosity\": logging.INFO,\n",
    "    \"model_explainability\": True\n",
    "}\n",
    "\n",
    "automl_config = AutoMLConfig(task = 'classification',\n",
    "                             debug_log = 'automl_errors.log',\n",
    "                             path=\".\",\n",
    "                             run_configuration=conda_run_config,\n",
    "                             data_script = \"get_data.py\",\n",
    "                             **automl_settings\n",
    "                            )"
   ]
  },
  {
   "cell_type": "markdown",
   "metadata": {},
   "source": [
    "#### Submit your trainig job"
   ]
  },
  {
   "cell_type": "code",
   "execution_count": 10,
   "metadata": {
    "scrolled": true
   },
   "outputs": [
    {
     "name": "stdout",
     "output_type": "stream",
     "text": [
      "Run(Experiment: classification-automl,\n",
      "Id: AutoML_2a412fe9-ed1e-462c-9d13-36146c4b2e4d,\n",
      "Type: automl,\n",
      "Status: Preparing)\n"
     ]
    }
   ],
   "source": [
    "run = experiment.submit(automl_config)\n",
    "print(run)"
   ]
  },
  {
   "cell_type": "markdown",
   "metadata": {},
   "source": [
    "#### Get more details of your run"
   ]
  },
  {
   "cell_type": "code",
   "execution_count": 11,
   "metadata": {},
   "outputs": [],
   "source": [
    "# print(run.get_details())"
   ]
  },
  {
   "cell_type": "markdown",
   "metadata": {},
   "source": [
    "#### Monitor your job"
   ]
  },
  {
   "cell_type": "code",
   "execution_count": 12,
   "metadata": {
    "scrolled": false
   },
   "outputs": [
    {
     "data": {
      "application/vnd.jupyter.widget-view+json": {
       "model_id": "80438c1667d547db87da058dd70bec1c",
       "version_major": 2,
       "version_minor": 0
      },
      "text/plain": [
       "_AutoMLWidget(widget_settings={'childWidgetDisplay': 'popup', 'send_telemetry': True, 'log_level': 'INFO', 'sd…"
      ]
     },
     "metadata": {},
     "output_type": "display_data"
    }
   ],
   "source": [
    "from azureml.widgets import RunDetails\n",
    "\n",
    "RunDetails(run).show()"
   ]
  },
  {
   "cell_type": "markdown",
   "metadata": {},
   "source": [
    "#### Wait for the job to complete and print a summary of the execution"
   ]
  },
  {
   "cell_type": "code",
   "execution_count": 13,
   "metadata": {
    "scrolled": false
   },
   "outputs": [
    {
     "name": "stdout",
     "output_type": "stream",
     "text": [
      "\n",
      "*******************************************************************************************************************\n",
      "ITERATION: The iteration being evaluated.\n",
      "PIPELINE: A summary description of the pipeline being evaluated.\n",
      "TRAINFRAC: Fraction of the training data to train on.\n",
      "DURATION: Time taken for the current iteration.\n",
      "METRIC: The result of computing score on the fitted pipeline.\n",
      "BEST: The best observed score thus far.\n",
      "*******************************************************************************************************************\n",
      "\n",
      " ITERATION   PIPELINE                                       TRAINFRAC  DURATION      METRIC      BEST\n",
      "         0   RobustScaler LogisticRegression                1          0:00:43       0.7541    0.7541\n",
      "         1   StandardScalerWrapper LightGBM                 1          0:00:38       0.7213    0.7541\n",
      "         2   StandardScalerWrapper DecisionTree             1          0:00:42       0.7869    0.7869\n",
      "         3   RobustScaler LightGBM                          1          0:00:35       0.7869    0.7869\n",
      "         4   StandardScalerWrapper LightGBM                 1          0:00:37       0.7377    0.7869\n",
      "         5   MaxAbsScaler LightGBM                          1          0:00:42       0.7213    0.7869\n",
      "         6   StandardScalerWrapper LightGBM                 1          0:00:43       0.7705    0.7869\n",
      "         7   SparseNormalizer ExtremeRandomTrees            1          0:00:38       0.5082    0.7869\n",
      "         8   StandardScalerWrapper LightGBM                 1          0:00:42       0.7377    0.7869\n"
     ]
    },
    {
     "name": "stderr",
     "output_type": "stream",
     "text": [
      "WARNING:urllib3.connectionpool:Retrying (Retry(total=2, connect=2, read=3, redirect=None, status=None)) after connection broken by 'NewConnectionError('<urllib3.connection.VerifiedHTTPSConnection object at 0x0000020C1F5D96D8>: Failed to establish a new connection: [WinError 10060] A connection attempt failed because the connected party did not properly respond after a period of time, or established connection failed because connected host has failed to respond',)': /history/v1.0/subscriptions/4dd7cdaa-1664-46be-b521-237c98ccf3f6/resourceGroups/ML-Service-RG/providers/Microsoft.MachineLearningServices/workspaces/ML-Service-Workspace/experiments/classification-automl/runs/AutoML_2a412fe9-ed1e-462c-9d13-36146c4b2e4d/details\n"
     ]
    },
    {
     "name": "stdout",
     "output_type": "stream",
     "text": [
      "         9   StandardScalerWrapper BernoulliNaiveBayes      1          0:00:39       0.7541    0.7869\n",
      "        10   MaxAbsScaler LightGBM                          1          0:00:37       0.7541    0.7869\n",
      "        11   MinMaxScaler LightGBM                          1          0:00:40       0.7213    0.7869\n",
      "        12   StandardScalerWrapper LightGBM                 1          0:00:46       0.6885    0.7869\n",
      "        13   MinMaxScaler SGD                               1          0:00:31       0.5082    0.7869\n",
      "        14   SparseNormalizer LightGBM                      1          0:00:29       0.7869    0.7869\n",
      "        15   SparseNormalizer LightGBM                      1          0:00:33       0.7213    0.7869\n",
      "        16   SparseNormalizer LightGBM                      1          0:00:32       0.7377    0.7869\n",
      "        17   SparseNormalizer LightGBM                      1          0:00:42       0.7377    0.7869\n",
      "        18   RobustScaler LightGBM                          1          0:00:42       0.7705    0.7869\n",
      "        19   StandardScalerWrapper DecisionTree             1          0:00:42       0.7705    0.7869\n",
      "        20   RobustScaler LogisticRegression                1          0:01:54       0.6885    0.7869\n",
      "        21   MinMaxScaler LightGBM                          1          0:02:41       0.7541    0.7869\n",
      "        22   MaxAbsScaler ExtremeRandomTrees                1          0:00:41       0.8033    0.8033\n",
      "        23   MaxAbsScaler RandomForest                      1          0:00:33       0.5082    0.8033\n",
      "        24   MinMaxScaler LogisticRegression                1          0:00:38       0.7705    0.8033\n",
      "        25   StandardScalerWrapper ExtremeRandomTrees       1          0:00:35       0.7541    0.8033\n",
      "        26   MaxAbsScaler LogisticRegression                1          0:00:39       0.7705    0.8033\n",
      "        27   RobustScaler LightGBM                          1          0:00:42       0.7377    0.8033\n",
      "        28   MaxAbsScaler LightGBM                          1          0:00:38       0.7377    0.8033\n",
      "        29   StandardScalerWrapper LogisticRegression       1          0:00:35       0.7705    0.8033\n",
      "        30   RobustScaler GradientBoosting                  1          0:00:45       0.7869    0.8033\n",
      "        31   StandardScalerWrapper RandomForest             1          0:00:38       0.7705    0.8033\n",
      "        32   StandardScalerWrapper ExtremeRandomTrees       1          0:00:48       0.7541    0.8033\n",
      "        33   MaxAbsScaler LogisticRegression                1          0:00:49       0.7541    0.8033\n",
      "        34   RobustScaler RandomForest                      1          0:00:40       0.7869    0.8033\n",
      "        35   StandardScalerWrapper LogisticRegression       1          0:00:51       0.7705    0.8033\n",
      "        36   MinMaxScaler RandomForest                      1          0:00:35       0.7377    0.8033\n",
      "        37   StandardScalerWrapper LogisticRegression       1          0:00:35       0.8033    0.8033\n",
      "        38   StandardScalerWrapper SGD                      1          0:00:38       0.8197    0.8197\n",
      "        39   StandardScalerWrapper RandomForest             1          0:00:39       0.7049    0.8197\n",
      "        40   StandardScalerWrapper LogisticRegression       1          0:00:46       0.7541    0.8197\n",
      "        41   StandardScalerWrapper SVM                      1          0:00:40       0.7541    0.8197\n",
      "        42   MinMaxScaler RandomForest                      1          0:00:39       0.7213    0.8197\n",
      "        43   RobustScaler LogisticRegression                1          0:00:47       0.7541    0.8197\n",
      "        44   StandardScalerWrapper LogisticRegression       1          0:00:47       0.7705    0.8197\n",
      "        45   MinMaxScaler GradientBoosting                  1          0:00:52       0.7377    0.8197\n",
      "        46   StandardScalerWrapper LinearSVM                1          0:00:39       0.7541    0.8197\n",
      "        47   MaxAbsScaler LogisticRegression                1          0:00:33       0.7541    0.8197\n",
      "        48   StandardScalerWrapper LogisticRegression       1          0:00:39       0.7705    0.8197\n",
      "        49    Ensemble                                      1          0:01:13       0.7705    0.8197\n",
      "\n",
      "Execution Summary\n",
      "=================\n",
      "RunId: AutoML_2a412fe9-ed1e-462c-9d13-36146c4b2e4d\n",
      "\n"
     ]
    },
    {
     "data": {
      "text/plain": [
       "{'runId': 'AutoML_2a412fe9-ed1e-462c-9d13-36146c4b2e4d',\n",
       " 'target': 'cpunode',\n",
       " 'status': 'Completed',\n",
       " 'startTimeUtc': '2019-02-14T19:33:50.624188Z',\n",
       " 'endTimeUtc': '2019-02-14T20:15:14.070763Z',\n",
       " 'properties': {'num_iterations': '50',\n",
       "  'training_type': 'TrainFull',\n",
       "  'acquisition_function': 'EI',\n",
       "  'primary_metric': 'accuracy',\n",
       "  'train_split': '0',\n",
       "  'MaxTimeSeconds': '3600',\n",
       "  'acquisition_parameter': '0',\n",
       "  'num_cross_validation': None,\n",
       "  'target': 'cpunode',\n",
       "  'RawAMLSettingsString': \"{'name': 'classification-automl', 'path': '.', 'subscription_id': '4dd7cdaa-1664-46be-b521-237c98ccf3f6', 'resource_group': 'ML-Service-RG', 'workspace_name': 'ML-Service-Workspace', 'iterations': 50, 'primary_metric': 'accuracy', 'data_script': 'get_data.py', 'compute_target': 'cpunode', 'task_type': 'classification', 'validation_size': 0.0, 'n_cross_validations': None, 'y_min': None, 'y_max': None, 'num_classes': None, 'preprocess': True, 'lag_length': 0, 'is_timeseries': False, 'max_cores_per_iteration': 4, 'max_concurrent_iterations': 1, 'iteration_timeout_minutes': 60, 'mem_in_mb': None, 'enforce_time_on_windows': True, 'experiment_timeout_minutes': None, 'experiment_exit_score': None, 'whitelist_models': None, 'blacklist_algos': [], 'auto_blacklist': True, 'blacklist_samples_reached': False, 'exclude_nan_labels': True, 'verbosity': 20, 'debug_log': 'automl_errors.log', 'show_warnings': False, 'model_explainability': True, 'service_url': None, 'sdk_url': None, 'sdk_packages': None, 'telemetry_verbosity': 'INFO', 'send_telemetry': True, 'spark_service': None, 'metrics': None, 'enable_ensembling': True, 'ensemble_iterations': 15, 'enable_tf': False, 'enable_cache': True, 'enable_subsampling': False, 'subsample_seed': None, 'cost_mode': 0, 'metric_operation': 'maximize'}\",\n",
       "  'AMLSettingsJsonString': '{\"name\": \"classification-automl\", \"path\": \".\", \"subscription_id\": \"4dd7cdaa-1664-46be-b521-237c98ccf3f6\", \"resource_group\": \"ML-Service-RG\", \"workspace_name\": \"ML-Service-Workspace\", \"iterations\": 50, \"primary_metric\": \"accuracy\", \"data_script\": \"get_data.py\", \"compute_target\": \"cpunode\", \"task_type\": \"classification\", \"validation_size\": 0.0, \"n_cross_validations\": null, \"y_min\": null, \"y_max\": null, \"num_classes\": null, \"preprocess\": true, \"lag_length\": 0, \"is_timeseries\": false, \"max_cores_per_iteration\": 4, \"max_concurrent_iterations\": 1, \"iteration_timeout_minutes\": 60, \"mem_in_mb\": null, \"enforce_time_on_windows\": true, \"experiment_timeout_minutes\": null, \"experiment_exit_score\": null, \"whitelist_models\": null, \"blacklist_algos\": [], \"auto_blacklist\": true, \"blacklist_samples_reached\": false, \"exclude_nan_labels\": true, \"verbosity\": 20, \"debug_log\": \"automl_errors.log\", \"show_warnings\": false, \"model_explainability\": true, \"service_url\": null, \"sdk_url\": null, \"sdk_packages\": null, \"telemetry_verbosity\": \"INFO\", \"send_telemetry\": true, \"spark_service\": null, \"metrics\": null, \"enable_ensembling\": true, \"ensemble_iterations\": 15, \"enable_tf\": false, \"enable_cache\": true, \"enable_subsampling\": false, \"subsample_seed\": null, \"cost_mode\": 0, \"metric_operation\": \"maximize\"}',\n",
       "  'DataPrepJsonString': None,\n",
       "  'EnableSubsampling': 'False',\n",
       "  'runTemplate': 'AutoML',\n",
       "  'azureml.runsource': 'automl',\n",
       "  'dependencies_versions': '{\"azuremlftk\": \"0.1.18323.5a1\", \"azureml-widgets\": \"1.0.10\", \"azureml-train\": \"1.0.10\", \"azureml-train-restclients-hyperdrive\": \"1.0.10\", \"azureml-train-core\": \"1.0.10\", \"azureml-train-automl\": \"1.0.10\", \"azureml-telemetry\": \"1.0.10\", \"azureml-sdk\": \"1.0.10\", \"azureml-pipeline\": \"1.0.10\", \"azureml-pipeline-steps\": \"1.0.10.1\", \"azureml-pipeline-core\": \"1.0.10\", \"azureml-explain-model\": \"1.0.10\", \"azureml-dataprep\": \"1.0.8\", \"azureml-dataprep-native\": \"11.2.1\", \"azureml-core\": \"1.0.10\"}',\n",
       "  'ContentSnapshotId': 'a1737c51-578c-41e6-b999-25792a2a2bc6',\n",
       "  'snapshotId': 'a1737c51-578c-41e6-b999-25792a2a2bc6',\n",
       "  'SetupRunId': 'AutoML_2a412fe9-ed1e-462c-9d13-36146c4b2e4d_setup',\n",
       "  'ProblemInfoJsonString': '{\"dataset_num_categorical\": 0, \"dataset_classes\": 2, \"dataset_features\": 13, \"dataset_samples\": 242, \"is_sparse\": false, \"subsampling\": false}'},\n",
       " 'logFiles': {}}"
      ]
     },
     "execution_count": 13,
     "metadata": {},
     "output_type": "execute_result"
    }
   ],
   "source": [
    "run.wait_for_completion(show_output = True)"
   ]
  },
  {
   "cell_type": "markdown",
   "metadata": {},
   "source": [
    "#### In case you need to cancel your job while still running"
   ]
  },
  {
   "cell_type": "code",
   "execution_count": 14,
   "metadata": {},
   "outputs": [],
   "source": [
    "# run.cancel()"
   ]
  },
  {
   "cell_type": "markdown",
   "metadata": {},
   "source": [
    "#### You can also use sdk methods to fetch all the child runs and see individual metrics"
   ]
  },
  {
   "cell_type": "code",
   "execution_count": 15,
   "metadata": {},
   "outputs": [
    {
     "data": {
      "text/html": [
       "<div>\n",
       "<style scoped>\n",
       "    .dataframe tbody tr th:only-of-type {\n",
       "        vertical-align: middle;\n",
       "    }\n",
       "\n",
       "    .dataframe tbody tr th {\n",
       "        vertical-align: top;\n",
       "    }\n",
       "\n",
       "    .dataframe thead th {\n",
       "        text-align: right;\n",
       "    }\n",
       "</style>\n",
       "<table border=\"1\" class=\"dataframe\">\n",
       "  <thead>\n",
       "    <tr style=\"text-align: right;\">\n",
       "      <th></th>\n",
       "      <th>0</th>\n",
       "      <th>1</th>\n",
       "      <th>2</th>\n",
       "      <th>3</th>\n",
       "      <th>4</th>\n",
       "      <th>5</th>\n",
       "      <th>6</th>\n",
       "      <th>7</th>\n",
       "      <th>8</th>\n",
       "      <th>9</th>\n",
       "      <th>...</th>\n",
       "      <th>40</th>\n",
       "      <th>41</th>\n",
       "      <th>42</th>\n",
       "      <th>43</th>\n",
       "      <th>44</th>\n",
       "      <th>45</th>\n",
       "      <th>46</th>\n",
       "      <th>47</th>\n",
       "      <th>48</th>\n",
       "      <th>49</th>\n",
       "    </tr>\n",
       "  </thead>\n",
       "  <tbody>\n",
       "    <tr>\n",
       "      <th>AUC_macro</th>\n",
       "      <td>0.870968</td>\n",
       "      <td>0.856989</td>\n",
       "      <td>0.846774</td>\n",
       "      <td>0.864516</td>\n",
       "      <td>0.859140</td>\n",
       "      <td>0.836559</td>\n",
       "      <td>0.895699</td>\n",
       "      <td>0.673118</td>\n",
       "      <td>0.846237</td>\n",
       "      <td>0.872043</td>\n",
       "      <td>...</td>\n",
       "      <td>0.869892</td>\n",
       "      <td>0.841935</td>\n",
       "      <td>0.851613</td>\n",
       "      <td>0.868817</td>\n",
       "      <td>0.863441</td>\n",
       "      <td>0.869892</td>\n",
       "      <td>0.867742</td>\n",
       "      <td>0.866667</td>\n",
       "      <td>0.869892</td>\n",
       "      <td>0.877419</td>\n",
       "    </tr>\n",
       "    <tr>\n",
       "      <th>AUC_micro</th>\n",
       "      <td>0.870968</td>\n",
       "      <td>0.856989</td>\n",
       "      <td>0.846774</td>\n",
       "      <td>0.864516</td>\n",
       "      <td>0.859140</td>\n",
       "      <td>0.836559</td>\n",
       "      <td>0.895699</td>\n",
       "      <td>0.673118</td>\n",
       "      <td>0.846237</td>\n",
       "      <td>0.872043</td>\n",
       "      <td>...</td>\n",
       "      <td>0.869892</td>\n",
       "      <td>0.841935</td>\n",
       "      <td>0.851613</td>\n",
       "      <td>0.868817</td>\n",
       "      <td>0.863441</td>\n",
       "      <td>0.869892</td>\n",
       "      <td>0.867742</td>\n",
       "      <td>0.866667</td>\n",
       "      <td>0.869892</td>\n",
       "      <td>0.877419</td>\n",
       "    </tr>\n",
       "    <tr>\n",
       "      <th>AUC_weighted</th>\n",
       "      <td>0.870968</td>\n",
       "      <td>0.856989</td>\n",
       "      <td>0.846774</td>\n",
       "      <td>0.864516</td>\n",
       "      <td>0.859140</td>\n",
       "      <td>0.836559</td>\n",
       "      <td>0.895699</td>\n",
       "      <td>0.673118</td>\n",
       "      <td>0.846237</td>\n",
       "      <td>0.872043</td>\n",
       "      <td>...</td>\n",
       "      <td>0.869892</td>\n",
       "      <td>0.841935</td>\n",
       "      <td>0.851613</td>\n",
       "      <td>0.868817</td>\n",
       "      <td>0.863441</td>\n",
       "      <td>0.869892</td>\n",
       "      <td>0.867742</td>\n",
       "      <td>0.866667</td>\n",
       "      <td>0.869892</td>\n",
       "      <td>0.877419</td>\n",
       "    </tr>\n",
       "    <tr>\n",
       "      <th>accuracy</th>\n",
       "      <td>0.754098</td>\n",
       "      <td>0.721311</td>\n",
       "      <td>0.786885</td>\n",
       "      <td>0.786885</td>\n",
       "      <td>0.737705</td>\n",
       "      <td>0.721311</td>\n",
       "      <td>0.770492</td>\n",
       "      <td>0.508197</td>\n",
       "      <td>0.737705</td>\n",
       "      <td>0.754098</td>\n",
       "      <td>...</td>\n",
       "      <td>0.754098</td>\n",
       "      <td>0.754098</td>\n",
       "      <td>0.721311</td>\n",
       "      <td>0.754098</td>\n",
       "      <td>0.770492</td>\n",
       "      <td>0.737705</td>\n",
       "      <td>0.754098</td>\n",
       "      <td>0.754098</td>\n",
       "      <td>0.770492</td>\n",
       "      <td>0.770492</td>\n",
       "    </tr>\n",
       "    <tr>\n",
       "      <th>average_precision_score_macro</th>\n",
       "      <td>0.883593</td>\n",
       "      <td>0.879039</td>\n",
       "      <td>0.817197</td>\n",
       "      <td>0.883160</td>\n",
       "      <td>0.881275</td>\n",
       "      <td>0.848592</td>\n",
       "      <td>0.915778</td>\n",
       "      <td>0.628024</td>\n",
       "      <td>0.873079</td>\n",
       "      <td>0.875602</td>\n",
       "      <td>...</td>\n",
       "      <td>0.882858</td>\n",
       "      <td>0.861258</td>\n",
       "      <td>0.867306</td>\n",
       "      <td>0.880976</td>\n",
       "      <td>0.878317</td>\n",
       "      <td>0.899235</td>\n",
       "      <td>0.880374</td>\n",
       "      <td>0.879596</td>\n",
       "      <td>0.882801</td>\n",
       "      <td>0.897660</td>\n",
       "    </tr>\n",
       "    <tr>\n",
       "      <th>average_precision_score_micro</th>\n",
       "      <td>0.883593</td>\n",
       "      <td>0.879039</td>\n",
       "      <td>0.817197</td>\n",
       "      <td>0.883160</td>\n",
       "      <td>0.881275</td>\n",
       "      <td>0.848592</td>\n",
       "      <td>0.915778</td>\n",
       "      <td>0.628024</td>\n",
       "      <td>0.873079</td>\n",
       "      <td>0.875602</td>\n",
       "      <td>...</td>\n",
       "      <td>0.882858</td>\n",
       "      <td>0.861258</td>\n",
       "      <td>0.867306</td>\n",
       "      <td>0.880976</td>\n",
       "      <td>0.878317</td>\n",
       "      <td>0.899235</td>\n",
       "      <td>0.880374</td>\n",
       "      <td>0.879596</td>\n",
       "      <td>0.882801</td>\n",
       "      <td>0.897660</td>\n",
       "    </tr>\n",
       "    <tr>\n",
       "      <th>average_precision_score_weighted</th>\n",
       "      <td>0.883593</td>\n",
       "      <td>0.879039</td>\n",
       "      <td>0.817197</td>\n",
       "      <td>0.883160</td>\n",
       "      <td>0.881275</td>\n",
       "      <td>0.848592</td>\n",
       "      <td>0.915778</td>\n",
       "      <td>0.628024</td>\n",
       "      <td>0.873079</td>\n",
       "      <td>0.875602</td>\n",
       "      <td>...</td>\n",
       "      <td>0.882858</td>\n",
       "      <td>0.861258</td>\n",
       "      <td>0.867306</td>\n",
       "      <td>0.880976</td>\n",
       "      <td>0.878317</td>\n",
       "      <td>0.899235</td>\n",
       "      <td>0.880374</td>\n",
       "      <td>0.879596</td>\n",
       "      <td>0.882801</td>\n",
       "      <td>0.897660</td>\n",
       "    </tr>\n",
       "    <tr>\n",
       "      <th>balanced_accuracy</th>\n",
       "      <td>0.753763</td>\n",
       "      <td>0.720430</td>\n",
       "      <td>0.787097</td>\n",
       "      <td>0.786559</td>\n",
       "      <td>0.736559</td>\n",
       "      <td>0.719892</td>\n",
       "      <td>0.768817</td>\n",
       "      <td>0.500000</td>\n",
       "      <td>0.735484</td>\n",
       "      <td>0.754839</td>\n",
       "      <td>...</td>\n",
       "      <td>0.753763</td>\n",
       "      <td>0.753226</td>\n",
       "      <td>0.722581</td>\n",
       "      <td>0.753763</td>\n",
       "      <td>0.770430</td>\n",
       "      <td>0.737634</td>\n",
       "      <td>0.753763</td>\n",
       "      <td>0.753763</td>\n",
       "      <td>0.770430</td>\n",
       "      <td>0.770430</td>\n",
       "    </tr>\n",
       "    <tr>\n",
       "      <th>f1_score_macro</th>\n",
       "      <td>0.753834</td>\n",
       "      <td>0.720108</td>\n",
       "      <td>0.786885</td>\n",
       "      <td>0.786656</td>\n",
       "      <td>0.735931</td>\n",
       "      <td>0.718589</td>\n",
       "      <td>0.767429</td>\n",
       "      <td>0.336957</td>\n",
       "      <td>0.731868</td>\n",
       "      <td>0.753834</td>\n",
       "      <td>...</td>\n",
       "      <td>0.753834</td>\n",
       "      <td>0.753036</td>\n",
       "      <td>0.720108</td>\n",
       "      <td>0.753834</td>\n",
       "      <td>0.770430</td>\n",
       "      <td>0.737634</td>\n",
       "      <td>0.753834</td>\n",
       "      <td>0.753834</td>\n",
       "      <td>0.770430</td>\n",
       "      <td>0.770430</td>\n",
       "    </tr>\n",
       "    <tr>\n",
       "      <th>f1_score_micro</th>\n",
       "      <td>0.754098</td>\n",
       "      <td>0.721311</td>\n",
       "      <td>0.786885</td>\n",
       "      <td>0.786885</td>\n",
       "      <td>0.737705</td>\n",
       "      <td>0.721311</td>\n",
       "      <td>0.770492</td>\n",
       "      <td>0.508197</td>\n",
       "      <td>0.737705</td>\n",
       "      <td>0.754098</td>\n",
       "      <td>...</td>\n",
       "      <td>0.754098</td>\n",
       "      <td>0.754098</td>\n",
       "      <td>0.721311</td>\n",
       "      <td>0.754098</td>\n",
       "      <td>0.770492</td>\n",
       "      <td>0.737705</td>\n",
       "      <td>0.754098</td>\n",
       "      <td>0.754098</td>\n",
       "      <td>0.770492</td>\n",
       "      <td>0.770492</td>\n",
       "    </tr>\n",
       "    <tr>\n",
       "      <th>f1_score_weighted</th>\n",
       "      <td>0.753966</td>\n",
       "      <td>0.720409</td>\n",
       "      <td>0.786885</td>\n",
       "      <td>0.786771</td>\n",
       "      <td>0.736286</td>\n",
       "      <td>0.719043</td>\n",
       "      <td>0.767867</td>\n",
       "      <td>0.342480</td>\n",
       "      <td>0.732517</td>\n",
       "      <td>0.753701</td>\n",
       "      <td>...</td>\n",
       "      <td>0.753966</td>\n",
       "      <td>0.753302</td>\n",
       "      <td>0.719807</td>\n",
       "      <td>0.753966</td>\n",
       "      <td>0.770492</td>\n",
       "      <td>0.737705</td>\n",
       "      <td>0.753966</td>\n",
       "      <td>0.753966</td>\n",
       "      <td>0.770492</td>\n",
       "      <td>0.770492</td>\n",
       "    </tr>\n",
       "    <tr>\n",
       "      <th>log_loss</th>\n",
       "      <td>0.446884</td>\n",
       "      <td>0.474263</td>\n",
       "      <td>2.056931</td>\n",
       "      <td>0.475436</td>\n",
       "      <td>0.471923</td>\n",
       "      <td>0.529975</td>\n",
       "      <td>0.507234</td>\n",
       "      <td>0.688011</td>\n",
       "      <td>0.581180</td>\n",
       "      <td>0.497030</td>\n",
       "      <td>...</td>\n",
       "      <td>0.487280</td>\n",
       "      <td>0.497967</td>\n",
       "      <td>0.457210</td>\n",
       "      <td>0.490746</td>\n",
       "      <td>0.455848</td>\n",
       "      <td>0.450384</td>\n",
       "      <td>0.447419</td>\n",
       "      <td>0.446265</td>\n",
       "      <td>0.493228</td>\n",
       "      <td>0.547790</td>\n",
       "    </tr>\n",
       "    <tr>\n",
       "      <th>norm_macro_recall</th>\n",
       "      <td>0.507527</td>\n",
       "      <td>0.440860</td>\n",
       "      <td>0.574194</td>\n",
       "      <td>0.573118</td>\n",
       "      <td>0.473118</td>\n",
       "      <td>0.439785</td>\n",
       "      <td>0.537634</td>\n",
       "      <td>0.000000</td>\n",
       "      <td>0.470968</td>\n",
       "      <td>0.509677</td>\n",
       "      <td>...</td>\n",
       "      <td>0.507527</td>\n",
       "      <td>0.506452</td>\n",
       "      <td>0.445161</td>\n",
       "      <td>0.507527</td>\n",
       "      <td>0.540860</td>\n",
       "      <td>0.475269</td>\n",
       "      <td>0.507527</td>\n",
       "      <td>0.507527</td>\n",
       "      <td>0.540860</td>\n",
       "      <td>0.540860</td>\n",
       "    </tr>\n",
       "    <tr>\n",
       "      <th>precision_score_macro</th>\n",
       "      <td>0.754310</td>\n",
       "      <td>0.723312</td>\n",
       "      <td>0.787097</td>\n",
       "      <td>0.787177</td>\n",
       "      <td>0.741758</td>\n",
       "      <td>0.727222</td>\n",
       "      <td>0.781532</td>\n",
       "      <td>0.254098</td>\n",
       "      <td>0.755245</td>\n",
       "      <td>0.756494</td>\n",
       "      <td>...</td>\n",
       "      <td>0.754310</td>\n",
       "      <td>0.756536</td>\n",
       "      <td>0.727473</td>\n",
       "      <td>0.754310</td>\n",
       "      <td>0.770430</td>\n",
       "      <td>0.737634</td>\n",
       "      <td>0.754310</td>\n",
       "      <td>0.754310</td>\n",
       "      <td>0.770430</td>\n",
       "      <td>0.770430</td>\n",
       "    </tr>\n",
       "    <tr>\n",
       "      <th>precision_score_micro</th>\n",
       "      <td>0.754098</td>\n",
       "      <td>0.721311</td>\n",
       "      <td>0.786885</td>\n",
       "      <td>0.786885</td>\n",
       "      <td>0.737705</td>\n",
       "      <td>0.721311</td>\n",
       "      <td>0.770492</td>\n",
       "      <td>0.508197</td>\n",
       "      <td>0.737705</td>\n",
       "      <td>0.754098</td>\n",
       "      <td>...</td>\n",
       "      <td>0.754098</td>\n",
       "      <td>0.754098</td>\n",
       "      <td>0.721311</td>\n",
       "      <td>0.754098</td>\n",
       "      <td>0.770492</td>\n",
       "      <td>0.737705</td>\n",
       "      <td>0.754098</td>\n",
       "      <td>0.754098</td>\n",
       "      <td>0.770492</td>\n",
       "      <td>0.770492</td>\n",
       "    </tr>\n",
       "    <tr>\n",
       "      <th>precision_score_weighted</th>\n",
       "      <td>0.754240</td>\n",
       "      <td>0.723026</td>\n",
       "      <td>0.787308</td>\n",
       "      <td>0.787080</td>\n",
       "      <td>0.741308</td>\n",
       "      <td>0.726685</td>\n",
       "      <td>0.780682</td>\n",
       "      <td>0.258264</td>\n",
       "      <td>0.754213</td>\n",
       "      <td>0.756973</td>\n",
       "      <td>...</td>\n",
       "      <td>0.754240</td>\n",
       "      <td>0.756188</td>\n",
       "      <td>0.728157</td>\n",
       "      <td>0.754240</td>\n",
       "      <td>0.770492</td>\n",
       "      <td>0.737705</td>\n",
       "      <td>0.754240</td>\n",
       "      <td>0.754240</td>\n",
       "      <td>0.770492</td>\n",
       "      <td>0.770492</td>\n",
       "    </tr>\n",
       "    <tr>\n",
       "      <th>recall_score_macro</th>\n",
       "      <td>0.753763</td>\n",
       "      <td>0.720430</td>\n",
       "      <td>0.787097</td>\n",
       "      <td>0.786559</td>\n",
       "      <td>0.736559</td>\n",
       "      <td>0.719892</td>\n",
       "      <td>0.768817</td>\n",
       "      <td>0.500000</td>\n",
       "      <td>0.735484</td>\n",
       "      <td>0.754839</td>\n",
       "      <td>...</td>\n",
       "      <td>0.753763</td>\n",
       "      <td>0.753226</td>\n",
       "      <td>0.722581</td>\n",
       "      <td>0.753763</td>\n",
       "      <td>0.770430</td>\n",
       "      <td>0.737634</td>\n",
       "      <td>0.753763</td>\n",
       "      <td>0.753763</td>\n",
       "      <td>0.770430</td>\n",
       "      <td>0.770430</td>\n",
       "    </tr>\n",
       "    <tr>\n",
       "      <th>recall_score_micro</th>\n",
       "      <td>0.754098</td>\n",
       "      <td>0.721311</td>\n",
       "      <td>0.786885</td>\n",
       "      <td>0.786885</td>\n",
       "      <td>0.737705</td>\n",
       "      <td>0.721311</td>\n",
       "      <td>0.770492</td>\n",
       "      <td>0.508197</td>\n",
       "      <td>0.737705</td>\n",
       "      <td>0.754098</td>\n",
       "      <td>...</td>\n",
       "      <td>0.754098</td>\n",
       "      <td>0.754098</td>\n",
       "      <td>0.721311</td>\n",
       "      <td>0.754098</td>\n",
       "      <td>0.770492</td>\n",
       "      <td>0.737705</td>\n",
       "      <td>0.754098</td>\n",
       "      <td>0.754098</td>\n",
       "      <td>0.770492</td>\n",
       "      <td>0.770492</td>\n",
       "    </tr>\n",
       "    <tr>\n",
       "      <th>recall_score_weighted</th>\n",
       "      <td>0.754098</td>\n",
       "      <td>0.721311</td>\n",
       "      <td>0.786885</td>\n",
       "      <td>0.786885</td>\n",
       "      <td>0.737705</td>\n",
       "      <td>0.721311</td>\n",
       "      <td>0.770492</td>\n",
       "      <td>0.508197</td>\n",
       "      <td>0.737705</td>\n",
       "      <td>0.754098</td>\n",
       "      <td>...</td>\n",
       "      <td>0.754098</td>\n",
       "      <td>0.754098</td>\n",
       "      <td>0.721311</td>\n",
       "      <td>0.754098</td>\n",
       "      <td>0.770492</td>\n",
       "      <td>0.737705</td>\n",
       "      <td>0.754098</td>\n",
       "      <td>0.754098</td>\n",
       "      <td>0.770492</td>\n",
       "      <td>0.770492</td>\n",
       "    </tr>\n",
       "    <tr>\n",
       "      <th>weighted_accuracy</th>\n",
       "      <td>0.754433</td>\n",
       "      <td>0.722192</td>\n",
       "      <td>0.786674</td>\n",
       "      <td>0.787211</td>\n",
       "      <td>0.738850</td>\n",
       "      <td>0.722730</td>\n",
       "      <td>0.772166</td>\n",
       "      <td>0.516389</td>\n",
       "      <td>0.739925</td>\n",
       "      <td>0.753358</td>\n",
       "      <td>...</td>\n",
       "      <td>0.754433</td>\n",
       "      <td>0.754970</td>\n",
       "      <td>0.720043</td>\n",
       "      <td>0.754433</td>\n",
       "      <td>0.770553</td>\n",
       "      <td>0.737775</td>\n",
       "      <td>0.754433</td>\n",
       "      <td>0.754433</td>\n",
       "      <td>0.770553</td>\n",
       "      <td>0.770553</td>\n",
       "    </tr>\n",
       "  </tbody>\n",
       "</table>\n",
       "<p>20 rows × 50 columns</p>\n",
       "</div>"
      ],
      "text/plain": [
       "                                        0         1         2         3   \\\n",
       "AUC_macro                         0.870968  0.856989  0.846774  0.864516   \n",
       "AUC_micro                         0.870968  0.856989  0.846774  0.864516   \n",
       "AUC_weighted                      0.870968  0.856989  0.846774  0.864516   \n",
       "accuracy                          0.754098  0.721311  0.786885  0.786885   \n",
       "average_precision_score_macro     0.883593  0.879039  0.817197  0.883160   \n",
       "average_precision_score_micro     0.883593  0.879039  0.817197  0.883160   \n",
       "average_precision_score_weighted  0.883593  0.879039  0.817197  0.883160   \n",
       "balanced_accuracy                 0.753763  0.720430  0.787097  0.786559   \n",
       "f1_score_macro                    0.753834  0.720108  0.786885  0.786656   \n",
       "f1_score_micro                    0.754098  0.721311  0.786885  0.786885   \n",
       "f1_score_weighted                 0.753966  0.720409  0.786885  0.786771   \n",
       "log_loss                          0.446884  0.474263  2.056931  0.475436   \n",
       "norm_macro_recall                 0.507527  0.440860  0.574194  0.573118   \n",
       "precision_score_macro             0.754310  0.723312  0.787097  0.787177   \n",
       "precision_score_micro             0.754098  0.721311  0.786885  0.786885   \n",
       "precision_score_weighted          0.754240  0.723026  0.787308  0.787080   \n",
       "recall_score_macro                0.753763  0.720430  0.787097  0.786559   \n",
       "recall_score_micro                0.754098  0.721311  0.786885  0.786885   \n",
       "recall_score_weighted             0.754098  0.721311  0.786885  0.786885   \n",
       "weighted_accuracy                 0.754433  0.722192  0.786674  0.787211   \n",
       "\n",
       "                                        4         5         6         7   \\\n",
       "AUC_macro                         0.859140  0.836559  0.895699  0.673118   \n",
       "AUC_micro                         0.859140  0.836559  0.895699  0.673118   \n",
       "AUC_weighted                      0.859140  0.836559  0.895699  0.673118   \n",
       "accuracy                          0.737705  0.721311  0.770492  0.508197   \n",
       "average_precision_score_macro     0.881275  0.848592  0.915778  0.628024   \n",
       "average_precision_score_micro     0.881275  0.848592  0.915778  0.628024   \n",
       "average_precision_score_weighted  0.881275  0.848592  0.915778  0.628024   \n",
       "balanced_accuracy                 0.736559  0.719892  0.768817  0.500000   \n",
       "f1_score_macro                    0.735931  0.718589  0.767429  0.336957   \n",
       "f1_score_micro                    0.737705  0.721311  0.770492  0.508197   \n",
       "f1_score_weighted                 0.736286  0.719043  0.767867  0.342480   \n",
       "log_loss                          0.471923  0.529975  0.507234  0.688011   \n",
       "norm_macro_recall                 0.473118  0.439785  0.537634  0.000000   \n",
       "precision_score_macro             0.741758  0.727222  0.781532  0.254098   \n",
       "precision_score_micro             0.737705  0.721311  0.770492  0.508197   \n",
       "precision_score_weighted          0.741308  0.726685  0.780682  0.258264   \n",
       "recall_score_macro                0.736559  0.719892  0.768817  0.500000   \n",
       "recall_score_micro                0.737705  0.721311  0.770492  0.508197   \n",
       "recall_score_weighted             0.737705  0.721311  0.770492  0.508197   \n",
       "weighted_accuracy                 0.738850  0.722730  0.772166  0.516389   \n",
       "\n",
       "                                        8         9     ...           40  \\\n",
       "AUC_macro                         0.846237  0.872043    ...     0.869892   \n",
       "AUC_micro                         0.846237  0.872043    ...     0.869892   \n",
       "AUC_weighted                      0.846237  0.872043    ...     0.869892   \n",
       "accuracy                          0.737705  0.754098    ...     0.754098   \n",
       "average_precision_score_macro     0.873079  0.875602    ...     0.882858   \n",
       "average_precision_score_micro     0.873079  0.875602    ...     0.882858   \n",
       "average_precision_score_weighted  0.873079  0.875602    ...     0.882858   \n",
       "balanced_accuracy                 0.735484  0.754839    ...     0.753763   \n",
       "f1_score_macro                    0.731868  0.753834    ...     0.753834   \n",
       "f1_score_micro                    0.737705  0.754098    ...     0.754098   \n",
       "f1_score_weighted                 0.732517  0.753701    ...     0.753966   \n",
       "log_loss                          0.581180  0.497030    ...     0.487280   \n",
       "norm_macro_recall                 0.470968  0.509677    ...     0.507527   \n",
       "precision_score_macro             0.755245  0.756494    ...     0.754310   \n",
       "precision_score_micro             0.737705  0.754098    ...     0.754098   \n",
       "precision_score_weighted          0.754213  0.756973    ...     0.754240   \n",
       "recall_score_macro                0.735484  0.754839    ...     0.753763   \n",
       "recall_score_micro                0.737705  0.754098    ...     0.754098   \n",
       "recall_score_weighted             0.737705  0.754098    ...     0.754098   \n",
       "weighted_accuracy                 0.739925  0.753358    ...     0.754433   \n",
       "\n",
       "                                        41        42        43        44  \\\n",
       "AUC_macro                         0.841935  0.851613  0.868817  0.863441   \n",
       "AUC_micro                         0.841935  0.851613  0.868817  0.863441   \n",
       "AUC_weighted                      0.841935  0.851613  0.868817  0.863441   \n",
       "accuracy                          0.754098  0.721311  0.754098  0.770492   \n",
       "average_precision_score_macro     0.861258  0.867306  0.880976  0.878317   \n",
       "average_precision_score_micro     0.861258  0.867306  0.880976  0.878317   \n",
       "average_precision_score_weighted  0.861258  0.867306  0.880976  0.878317   \n",
       "balanced_accuracy                 0.753226  0.722581  0.753763  0.770430   \n",
       "f1_score_macro                    0.753036  0.720108  0.753834  0.770430   \n",
       "f1_score_micro                    0.754098  0.721311  0.754098  0.770492   \n",
       "f1_score_weighted                 0.753302  0.719807  0.753966  0.770492   \n",
       "log_loss                          0.497967  0.457210  0.490746  0.455848   \n",
       "norm_macro_recall                 0.506452  0.445161  0.507527  0.540860   \n",
       "precision_score_macro             0.756536  0.727473  0.754310  0.770430   \n",
       "precision_score_micro             0.754098  0.721311  0.754098  0.770492   \n",
       "precision_score_weighted          0.756188  0.728157  0.754240  0.770492   \n",
       "recall_score_macro                0.753226  0.722581  0.753763  0.770430   \n",
       "recall_score_micro                0.754098  0.721311  0.754098  0.770492   \n",
       "recall_score_weighted             0.754098  0.721311  0.754098  0.770492   \n",
       "weighted_accuracy                 0.754970  0.720043  0.754433  0.770553   \n",
       "\n",
       "                                        45        46        47        48  \\\n",
       "AUC_macro                         0.869892  0.867742  0.866667  0.869892   \n",
       "AUC_micro                         0.869892  0.867742  0.866667  0.869892   \n",
       "AUC_weighted                      0.869892  0.867742  0.866667  0.869892   \n",
       "accuracy                          0.737705  0.754098  0.754098  0.770492   \n",
       "average_precision_score_macro     0.899235  0.880374  0.879596  0.882801   \n",
       "average_precision_score_micro     0.899235  0.880374  0.879596  0.882801   \n",
       "average_precision_score_weighted  0.899235  0.880374  0.879596  0.882801   \n",
       "balanced_accuracy                 0.737634  0.753763  0.753763  0.770430   \n",
       "f1_score_macro                    0.737634  0.753834  0.753834  0.770430   \n",
       "f1_score_micro                    0.737705  0.754098  0.754098  0.770492   \n",
       "f1_score_weighted                 0.737705  0.753966  0.753966  0.770492   \n",
       "log_loss                          0.450384  0.447419  0.446265  0.493228   \n",
       "norm_macro_recall                 0.475269  0.507527  0.507527  0.540860   \n",
       "precision_score_macro             0.737634  0.754310  0.754310  0.770430   \n",
       "precision_score_micro             0.737705  0.754098  0.754098  0.770492   \n",
       "precision_score_weighted          0.737705  0.754240  0.754240  0.770492   \n",
       "recall_score_macro                0.737634  0.753763  0.753763  0.770430   \n",
       "recall_score_micro                0.737705  0.754098  0.754098  0.770492   \n",
       "recall_score_weighted             0.737705  0.754098  0.754098  0.770492   \n",
       "weighted_accuracy                 0.737775  0.754433  0.754433  0.770553   \n",
       "\n",
       "                                        49  \n",
       "AUC_macro                         0.877419  \n",
       "AUC_micro                         0.877419  \n",
       "AUC_weighted                      0.877419  \n",
       "accuracy                          0.770492  \n",
       "average_precision_score_macro     0.897660  \n",
       "average_precision_score_micro     0.897660  \n",
       "average_precision_score_weighted  0.897660  \n",
       "balanced_accuracy                 0.770430  \n",
       "f1_score_macro                    0.770430  \n",
       "f1_score_micro                    0.770492  \n",
       "f1_score_weighted                 0.770492  \n",
       "log_loss                          0.547790  \n",
       "norm_macro_recall                 0.540860  \n",
       "precision_score_macro             0.770430  \n",
       "precision_score_micro             0.770492  \n",
       "precision_score_weighted          0.770492  \n",
       "recall_score_macro                0.770430  \n",
       "recall_score_micro                0.770492  \n",
       "recall_score_weighted             0.770492  \n",
       "weighted_accuracy                 0.770553  \n",
       "\n",
       "[20 rows x 50 columns]"
      ]
     },
     "metadata": {},
     "output_type": "display_data"
    }
   ],
   "source": [
    "import pandas as pd\n",
    "\n",
    "children = list(run.get_children())\n",
    "metricslist = {}\n",
    "\n",
    "for single_run in children:\n",
    "    properties = single_run.get_properties()\n",
    "    metrics = {k: v for k, v in single_run.get_metrics().items() if isinstance(v, float)}    \n",
    "    metricslist[int(properties['iteration'])] = metrics\n",
    "\n",
    "rundata = pd.DataFrame(metricslist).sort_index(1)\n",
    "display(rundata)"
   ]
  },
  {
   "cell_type": "markdown",
   "metadata": {},
   "source": [
    "#### Retrieve the best model"
   ]
  },
  {
   "cell_type": "code",
   "execution_count": 16,
   "metadata": {},
   "outputs": [
    {
     "name": "stdout",
     "output_type": "stream",
     "text": [
      "Run(Experiment: classification-automl,\n",
      "Id: AutoML_2a412fe9-ed1e-462c-9d13-36146c4b2e4d_38,\n",
      "Type: azureml.scriptrun,\n",
      "Status: Completed)\n",
      "####################\n",
      "Pipeline(memory=None,\n",
      "     steps=[('datatransformer', DataTransformer(logger=None, task=None)), ('standardscalerwrapper', <automl.client.core.common.model_wrappers.StandardScalerWrapper object at 0x0000020C2CA90A90>), ('sgdclassifierwrapper', SGDClassifierWrapper(alpha=6.53064693877551, class_weight=None, eta0=0.001,\n",
      "        ...bs=4,\n",
      "           penalty='l2', power_t=0.3333333333333333, random_state=None,\n",
      "           tol=0.01))])\n",
      "####################\n",
      "[('datatransformer', DataTransformer(logger=None, task=None)), ('standardscalerwrapper', <automl.client.core.common.model_wrappers.StandardScalerWrapper object at 0x0000020C2CA90A90>), ('sgdclassifierwrapper', SGDClassifierWrapper(alpha=6.53064693877551, class_weight=None, eta0=0.001,\n",
      "           fit_intercept=False, l1_ratio=0.8979591836734693,\n",
      "           learning_rate='optimal', loss='log', max_iter=1000, n_jobs=4,\n",
      "           penalty='l2', power_t=0.3333333333333333, random_state=None,\n",
      "           tol=0.01))]\n"
     ]
    }
   ],
   "source": [
    "best_run, fitted_pipeline = run.get_output()\n",
    "\n",
    "print(best_run)\n",
    "print(\"####################\")\n",
    "print(fitted_pipeline)\n",
    "print(\"####################\")\n",
    "print(fitted_pipeline.steps)"
   ]
  },
  {
   "cell_type": "markdown",
   "metadata": {},
   "source": [
    "#### Score the best model on the test set"
   ]
  },
  {
   "cell_type": "code",
   "execution_count": 17,
   "metadata": {
    "scrolled": true
   },
   "outputs": [
    {
     "name": "stdout",
     "output_type": "stream",
     "text": [
      "Best Accuracy train:  0.86\n",
      "Best Accuracy test:  0.82\n"
     ]
    }
   ],
   "source": [
    "import pandas as pd\n",
    "from sklearn.model_selection import train_test_split\n",
    "\n",
    "df_heart = pd.read_csv(\"../data/heart.csv\")\n",
    "df_heart_X = df_heart.drop([\"target\"], axis=1).values\n",
    "df_heart_y = df_heart[\"target\"].values\n",
    "X_train, X_test, y_train, y_test = train_test_split(df_heart_X, df_heart_y, test_size = 0.2, random_state=123)\n",
    "    \n",
    "score_train = round(fitted_pipeline.score(X_train, y_train), 3)\n",
    "print(\"Best Accuracy train: \", score_train)\n",
    "score_test = round(fitted_pipeline.score(X_test, y_test), 3)\n",
    "print(\"Best Accuracy test: \", score_test) "
   ]
  },
  {
   "cell_type": "markdown",
   "metadata": {},
   "source": [
    "#### View model explainability"
   ]
  },
  {
   "cell_type": "code",
   "execution_count": 18,
   "metadata": {},
   "outputs": [
    {
     "name": "stderr",
     "output_type": "stream",
     "text": [
      "100%|██████████████████████████████████████████████████████████████████████████████████| 61/61 [00:36<00:00,  2.57it/s]\n"
     ]
    },
    {
     "name": "stdout",
     "output_type": "stream",
     "text": [
      "['C12_MeanImputer', 'C10_MeanImputer', 'C3_MeanImputer', 'C9_MeanImputer', 'C11_MeanImputer', 'C8_MeanImputer', 'C13_MeanImputer', 'C2_MeanImputer', 'C1_MeanImputer', 'C7_MeanImputer', 'C4_MeanImputer', 'C5_MeanImputer', 'C6_MeanImputer']\n",
      "[0.007709839770767843, 0.007191645513937159, 0.007109638948903136, 0.006533919339842723, 0.005820693723920989, 0.005661370492156981, 0.005615518197133055, 0.004377947602452456, 0.0032724209164514545, 0.0023804991366112235, 0.0012496833597931468, 0.0003991945689791898, 3.0002391221483813e-05]\n",
      "[['C12_MeanImputer', 'C10_MeanImputer', 'C3_MeanImputer', 'C9_MeanImputer', 'C11_MeanImputer', 'C8_MeanImputer', 'C13_MeanImputer', 'C2_MeanImputer', 'C1_MeanImputer', 'C7_MeanImputer', 'C4_MeanImputer', 'C5_MeanImputer', 'C6_MeanImputer'], ['C12_MeanImputer', 'C10_MeanImputer', 'C3_MeanImputer', 'C9_MeanImputer', 'C11_MeanImputer', 'C8_MeanImputer', 'C13_MeanImputer', 'C2_MeanImputer', 'C1_MeanImputer', 'C7_MeanImputer', 'C4_MeanImputer', 'C5_MeanImputer', 'C6_MeanImputer']]\n",
      "[[0.0077098397707678476, 0.0071916455139371584, 0.007109638948903137, 0.006533919339842721, 0.005820693723920989, 0.005661370492156983, 0.005615518197133055, 0.004377947602452459, 0.003272420916451455, 0.0023804991366112253, 0.0012496833597931479, 0.0003991945689791903, 3.000239122148429e-05], [0.007709839770767839, 0.00719164551393716, 0.0071096389489031355, 0.006533919339842726, 0.00582069372392099, 0.005661370492156979, 0.0056155181971330554, 0.004377947602452454, 0.0032724209164514536, 0.0023804991366112222, 0.001249683359793146, 0.00039919456897918924, 3.0002391221483332e-05]]\n"
     ]
    }
   ],
   "source": [
    "import pandas as pd\n",
    "from sklearn.model_selection import train_test_split\n",
    "\n",
    "df_heart = pd.read_csv(\"../data/heart.csv\")\n",
    "df_heart_X = df_heart.drop([\"target\"], axis=1).values\n",
    "df_heart_y = df_heart[\"target\"].values\n",
    "X_train, X_test, y_train, y_test = train_test_split(df_heart_X, df_heart_y, test_size = 0.2, random_state=123)\n",
    "\n",
    "from azureml.train.automl.automlexplainer import explain_model\n",
    "\n",
    "shap_values, expected_values, overall_summary, overall_imp, per_class_summary, per_class_imp = explain_model(fitted_pipeline, X_train, X_test)\n",
    "\n",
    "#Overall feature importance\n",
    "print(overall_imp)\n",
    "print(overall_summary)\n",
    "\n",
    "#Class-level feature importance\n",
    "print(per_class_imp)\n",
    "print(per_class_summary)"
   ]
  },
  {
   "cell_type": "markdown",
   "metadata": {},
   "source": [
    "#### Save the best model"
   ]
  },
  {
   "cell_type": "code",
   "execution_count": 19,
   "metadata": {},
   "outputs": [
    {
     "data": {
      "text/html": [
       "['best_model.joblib']"
      ],
      "text/plain": [
       "['best_model.joblib']"
      ]
     },
     "execution_count": 19,
     "metadata": {},
     "output_type": "execute_result"
    }
   ],
   "source": [
    "from joblib import dump\n",
    "\n",
    "dump(fitted_pipeline, \"best_model.joblib\") "
   ]
  },
  {
   "cell_type": "markdown",
   "metadata": {},
   "source": [
    "#### The preprocess data gets cache at user default file store. When the run is completed the cache can be cleaned"
   ]
  },
  {
   "cell_type": "code",
   "execution_count": 21,
   "metadata": {},
   "outputs": [],
   "source": [
    "# run.clean_preprocessor_cache()"
   ]
  }
 ],
 "metadata": {
  "kernelspec": {
   "display_name": "Python (azure_automl)",
   "language": "python",
   "name": "azure_automl"
  },
  "language_info": {
   "codemirror_mode": {
    "name": "ipython",
    "version": 3
   },
   "file_extension": ".py",
   "mimetype": "text/x-python",
   "name": "python",
   "nbconvert_exporter": "python",
   "pygments_lexer": "ipython3",
   "version": "3.6.8"
  }
 },
 "nbformat": 4,
 "nbformat_minor": 2
}
